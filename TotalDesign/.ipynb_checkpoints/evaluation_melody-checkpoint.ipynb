{
 "cells": [
  {
   "cell_type": "markdown",
   "metadata": {},
   "source": [
    "# 현재 적용할 수 있는 평가 내용\n",
    "- EB : 빈 마디 비율 : \n",
    "- UPC : pitch class의 비율\n",
    "- QN : 3 timestep 보다 짧은 노트들의 비율\n",
    "- DP : 드럼이 없으므로 측정하지 않음\n",
    "- TD : 판별 조건이 애매하므로 측정하지 않음\n",
    "  - 마디 간 화성의 유사성이 의미가 없을 듯\n",
    "- CTR : 음이 코드 톤과 일치하는 비율"
   ]
  },
  {
   "cell_type": "code",
   "execution_count": null,
   "metadata": {},
   "outputs": [],
   "source": [
    "import numpy as np\n",
    "import torch\n",
    "\n",
    "score = np.load('MuseGAN/melodyMuseGAN/data/score/score_g_100.npy')\n",
    "score = np.reshape(score, (128, 52))\n",
    "score = np.split(score, [40], axis=1)\n",
    "\n",
    "melody = torch.Tensor(score[0])\n",
    "chord = torch.Tensor(score[1])\n",
    "\n",
    "print(melody.shape)\n",
    "print(chord.shape)\n",
    "\n",
    "import evaluator\n",
    "\n",
    "e = evaluator.Evaluator(chord, melody)\n",
    "e.evaluate()\n",
    "e.show_df()"
   ]
  },
  {
   "cell_type": "code",
   "execution_count": null,
   "metadata": {},
   "outputs": [],
   "source": [
    "print(melody[0].shape)\n",
    "print(chord[0].shape)"
   ]
  },
  {
   "cell_type": "code",
   "execution_count": null,
   "metadata": {},
   "outputs": [],
   "source": [
    "import evaluator"
   ]
  },
  {
   "cell_type": "code",
   "execution_count": 81,
   "metadata": {},
   "outputs": [],
   "source": [
    "e = evaluator.Evaluator(melody[0], chord[0])"
   ]
  },
  {
   "cell_type": "code",
   "execution_count": 82,
   "metadata": {},
   "outputs": [
    {
     "data": {
      "text/plain": [
       "{'Empty Bars': 0.0,\n",
       " 'Used Pitch Class': 2.625,\n",
       " 'Qualified Notes': 0.4418604651162791,\n",
       " 'Code Tone Ratio': 0.2033898305084746}"
      ]
     },
     "execution_count": 82,
     "metadata": {},
     "output_type": "execute_result"
    }
   ],
   "source": [
    "e.evaluate()"
   ]
  },
  {
   "cell_type": "code",
   "execution_count": 83,
   "metadata": {},
   "outputs": [
    {
     "data": {
      "text/html": [
       "<div>\n",
       "<style scoped>\n",
       "    .dataframe tbody tr th:only-of-type {\n",
       "        vertical-align: middle;\n",
       "    }\n",
       "\n",
       "    .dataframe tbody tr th {\n",
       "        vertical-align: top;\n",
       "    }\n",
       "\n",
       "    .dataframe thead th {\n",
       "        text-align: right;\n",
       "    }\n",
       "</style>\n",
       "<table border=\"1\" class=\"dataframe\">\n",
       "  <thead>\n",
       "    <tr style=\"text-align: right;\">\n",
       "      <th></th>\n",
       "      <th>Empty Bars</th>\n",
       "      <th>Used Pitch Class</th>\n",
       "      <th>Qualified Notes</th>\n",
       "      <th>Code Tone Ratio</th>\n",
       "    </tr>\n",
       "  </thead>\n",
       "  <tbody>\n",
       "    <tr>\n",
       "      <th>0</th>\n",
       "      <td>0.0</td>\n",
       "      <td>2.625</td>\n",
       "      <td>0.44186</td>\n",
       "      <td>0.20339</td>\n",
       "    </tr>\n",
       "  </tbody>\n",
       "</table>\n",
       "</div>"
      ],
      "text/plain": [
       "   Empty Bars  Used Pitch Class  Qualified Notes  Code Tone Ratio\n",
       "0         0.0             2.625          0.44186          0.20339"
      ]
     },
     "execution_count": 83,
     "metadata": {},
     "output_type": "execute_result"
    }
   ],
   "source": [
    "e.show_df()"
   ]
  },
  {
   "cell_type": "code",
   "execution_count": null,
   "metadata": {},
   "outputs": [],
   "source": []
  }
 ],
 "metadata": {
  "interpreter": {
   "hash": "4dcd9f74b5b5fd041ab6a3296833a84cdbf620644ec0928568ac6efec364a649"
  },
  "kernelspec": {
   "display_name": "Python 3",
   "language": "python",
   "name": "python3"
  },
  "language_info": {
   "codemirror_mode": {
    "name": "ipython",
    "version": 3
   },
   "file_extension": ".py",
   "mimetype": "text/x-python",
   "name": "python",
   "nbconvert_exporter": "python",
   "pygments_lexer": "ipython3",
   "version": "3.6.13"
  }
 },
 "nbformat": 4,
 "nbformat_minor": 2
}
