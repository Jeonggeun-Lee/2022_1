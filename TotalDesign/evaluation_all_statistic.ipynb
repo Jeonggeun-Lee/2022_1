{
 "cells": [
  {
   "cell_type": "markdown",
   "metadata": {},
   "source": [
    "# 현재 적용할 수 있는 평가 내용\n",
    "- EB : 빈 마디 비율 : \n",
    "- UPC : pitch class의 비율\n",
    "- QN : 3 timestep 보다 짧은 노트들의 비율\n",
    "- DP : 드럼이 없으므로 측정하지 않음\n",
    "- TD : 판별 조건이 애매하므로 측정하지 않음\n",
    "  - 마디 간 화성의 유사성이 의미가 없을 듯\n",
    "- CTR : 음이 코드 톤과 일치하는 비율"
   ]
  },
  {
   "cell_type": "code",
   "execution_count": 2,
   "metadata": {},
   "outputs": [],
   "source": [
    "import pickle\n",
    "\n",
    "with open('./MuseGAN/melodyMuseGAN/data/melody_train_data.pkl', \"rb\") as f:\n",
    "  melody = pickle.load(f)\n",
    "\n",
    "with open('./MuseGAN/chordRNN/data/data_train.pkl', \"rb\") as f:\n",
    "  chord = pickle.load(f)"
   ]
  },
  {
   "cell_type": "code",
   "execution_count": 3,
   "metadata": {},
   "outputs": [],
   "source": [
    "import evaluator"
   ]
  },
  {
   "cell_type": "code",
   "execution_count": 3,
   "metadata": {},
   "outputs": [
    {
     "name": "stdout",
     "output_type": "stream",
     "text": [
      "(10143, 128, 40)\n",
      "(10143, 128, 12)\n"
     ]
    }
   ],
   "source": [
    "print(melody.shape)\n",
    "print(chord.shape)"
   ]
  },
  {
   "cell_type": "code",
   "execution_count": 4,
   "metadata": {},
   "outputs": [
    {
     "name": "stdout",
     "output_type": "stream",
     "text": [
      "avg_eb: 0.0034260080843931777\n",
      "avg_upc: 2.0206299911268855\n",
      "avg_qn: 0.6509368780279224\n",
      "avg_ctr: 0.5029597222662033\n"
     ]
    }
   ],
   "source": [
    "sum_eb = 0\n",
    "sum_upc = 0\n",
    "sum_qn = 0\n",
    "sum_ctr = 0\n",
    "for i in range(melody.shape[0]):\n",
    "    e = evaluator.Evaluator(melody[i], chord[i])\n",
    "    spec = e.evaluate()\n",
    "    sum_eb += spec['Empty Bars']\n",
    "    sum_upc += spec['Used Pitch Class']\n",
    "    sum_qn += spec['Qualified Notes']\n",
    "    sum_ctr += spec['Code Tone Ratio']\n",
    "\n",
    "print('avg_eb:', sum_eb/melody.shape[0])\n",
    "print('avg_upc:', sum_upc/melody.shape[0])\n",
    "print('avg_qn:', sum_qn/melody.shape[0])\n",
    "print('avg_ctr:', sum_ctr/melody.shape[0])"
   ]
  },
  {
   "cell_type": "code",
   "execution_count": 5,
   "metadata": {},
   "outputs": [
    {
     "data": {
      "text/plain": [
       "{'Empty Bars': 0.0,\n",
       " 'Used Pitch Class': 4.375,\n",
       " 'Qualified Notes': 0.45714285714285713,\n",
       " 'Code Tone Ratio': 0.15625}"
      ]
     },
     "execution_count": 5,
     "metadata": {},
     "output_type": "execute_result"
    }
   ],
   "source": [
    "import numpy as np\n",
    "import torch\n",
    "#m = np.load('MuseGAN_integrated/melodyMuseGAN/results/melody/score_hold_enforce_g_670.npy')\n",
    "m = np.load('MuseGAN/melodyMuseGAN/result/generated_score.npy')\n",
    "#m = np.load('MuseGAN_integrated/melodyMuseGAN/results/melody/score_G_FC_D_LSTM_g_700.npy')\n",
    "m = m.reshape(128, 52)\n",
    "p = m[:, :37]\n",
    "o = m[:, 37:40]\n",
    "ch = m[:, 40:]\n",
    "\n",
    "p = torch.tensor(p)\n",
    "o = torch.tensor(o)\n",
    "ch = torch.tensor(ch)\n",
    "\n",
    "p = torch.argmax(p, dim=-1)\n",
    "o = torch.argmax(o, dim=-1)\n",
    "ch = torch.argmax(ch, dim=-1)\n",
    "\n",
    "p = torch.nn.functional.one_hot(p, num_classes=37)\n",
    "o = torch.nn.functional.one_hot(o, num_classes=3)\n",
    "m = torch.concat([p, o], dim=-1)\n",
    "ch = torch.nn.functional.one_hot(ch, num_classes=12)\n",
    "\n",
    "m = m.numpy()\n",
    "ch = ch.numpy()\n",
    "\n",
    "e = evaluator.Evaluator(m, ch)\n",
    "e.evaluate()"
   ]
  },
  {
   "cell_type": "code",
   "execution_count": 5,
   "metadata": {},
   "outputs": [
    {
     "data": {
      "text/html": [
       "<div>\n",
       "<style scoped>\n",
       "    .dataframe tbody tr th:only-of-type {\n",
       "        vertical-align: middle;\n",
       "    }\n",
       "\n",
       "    .dataframe tbody tr th {\n",
       "        vertical-align: top;\n",
       "    }\n",
       "\n",
       "    .dataframe thead th {\n",
       "        text-align: right;\n",
       "    }\n",
       "</style>\n",
       "<table border=\"1\" class=\"dataframe\">\n",
       "  <thead>\n",
       "    <tr style=\"text-align: right;\">\n",
       "      <th></th>\n",
       "      <th>Empty Bars</th>\n",
       "      <th>Used Pitch Class</th>\n",
       "      <th>Qualified Notes</th>\n",
       "      <th>Code Tone Ratio</th>\n",
       "    </tr>\n",
       "  </thead>\n",
       "  <tbody>\n",
       "    <tr>\n",
       "      <th>0</th>\n",
       "      <td>0.0</td>\n",
       "      <td>6.75</td>\n",
       "      <td>0.515152</td>\n",
       "      <td>0.148438</td>\n",
       "    </tr>\n",
       "  </tbody>\n",
       "</table>\n",
       "</div>"
      ],
      "text/plain": [
       "   Empty Bars  Used Pitch Class  Qualified Notes  Code Tone Ratio\n",
       "0         0.0              6.75         0.515152         0.148438"
      ]
     },
     "execution_count": 5,
     "metadata": {},
     "output_type": "execute_result"
    }
   ],
   "source": [
    "e.show_df()"
   ]
  },
  {
   "cell_type": "code",
   "execution_count": null,
   "metadata": {},
   "outputs": [],
   "source": []
  }
 ],
 "metadata": {
  "interpreter": {
   "hash": "4dcd9f74b5b5fd041ab6a3296833a84cdbf620644ec0928568ac6efec364a649"
  },
  "kernelspec": {
   "display_name": "Python 3 (ipykernel)",
   "language": "python",
   "name": "python3"
  },
  "language_info": {
   "codemirror_mode": {
    "name": "ipython",
    "version": 3
   },
   "file_extension": ".py",
   "mimetype": "text/x-python",
   "name": "python",
   "nbconvert_exporter": "python",
   "pygments_lexer": "ipython3",
   "version": "3.7.13"
  }
 },
 "nbformat": 4,
 "nbformat_minor": 2
}
